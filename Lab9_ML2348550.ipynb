{
  "nbformat": 4,
  "nbformat_minor": 0,
  "metadata": {
    "colab": {
      "provenance": [],
      "mount_file_id": "1V3NWxpZkVeVJQZRzOD9BAu4L6mEcoPgd",
      "authorship_tag": "ABX9TyN3JBYDfd/fRKQqBRKfdjs9",
      "include_colab_link": true
    },
    "kernelspec": {
      "name": "python3",
      "display_name": "Python 3"
    },
    "language_info": {
      "name": "python"
    }
  },
  "cells": [
    {
      "cell_type": "markdown",
      "metadata": {
        "id": "view-in-github",
        "colab_type": "text"
      },
      "source": [
        "<a href=\"https://colab.research.google.com/github/SamuelRaj0911/ML-Lab/blob/main/Lab9_ML2348550.ipynb\" target=\"_parent\"><img src=\"https://colab.research.google.com/assets/colab-badge.svg\" alt=\"Open In Colab\"/></a>"
      ]
    },
    {
      "cell_type": "code",
      "execution_count": 1,
      "metadata": {
        "id": "BYqrV3g9CRKa"
      },
      "outputs": [],
      "source": [
        "import numpy as np\n",
        "import pandas as pd\n",
        "import matplotlib.pyplot as plt\n",
        "from sklearn.model_selection import train_test_split\n",
        "from sklearn.metrics import accuracy_score"
      ]
    },
    {
      "cell_type": "code",
      "source": [
        "import os\n",
        "import cv2\n",
        "\n",
        "path = 'drive/folders/103BUwrUm9k845ERsTIFFdntzVdeMqXkm?usp=sharing'\n",
        "classes = {'no_tumor': 0, 'pituitary_tumor': 1, 'glioma_tumor':2,'meningioma_tumor':3}\n",
        "X = []\n",
        "Y = []\n",
        "\n",
        "for cls in classes:\n",
        "    pth = os.path.join(path, cls)\n",
        "    for j in os.listdir(pth):\n",
        "        img = cv2.imread(os.path.join(pth, j), 0)\n",
        "        img = cv2.resize(img, (200, 200))\n",
        "        X.append(img)\n",
        "        Y.append(classes[cls])"
      ],
      "metadata": {
        "colab": {
          "base_uri": "https://localhost:8080/",
          "height": 245
        },
        "id": "E4GUE3vdCzO1",
        "outputId": "07169ce7-9d71-4c9e-af02-7a0062b51929"
      },
      "execution_count": 8,
      "outputs": [
        {
          "output_type": "error",
          "ename": "FileNotFoundError",
          "evalue": "ignored",
          "traceback": [
            "\u001b[0;31m---------------------------------------------------------------------------\u001b[0m",
            "\u001b[0;31mFileNotFoundError\u001b[0m                         Traceback (most recent call last)",
            "\u001b[0;32m<ipython-input-8-22fd6d674d64>\u001b[0m in \u001b[0;36m<cell line: 9>\u001b[0;34m()\u001b[0m\n\u001b[1;32m      9\u001b[0m \u001b[0;32mfor\u001b[0m \u001b[0mcls\u001b[0m \u001b[0;32min\u001b[0m \u001b[0mclasses\u001b[0m\u001b[0;34m:\u001b[0m\u001b[0;34m\u001b[0m\u001b[0;34m\u001b[0m\u001b[0m\n\u001b[1;32m     10\u001b[0m     \u001b[0mpth\u001b[0m \u001b[0;34m=\u001b[0m \u001b[0mos\u001b[0m\u001b[0;34m.\u001b[0m\u001b[0mpath\u001b[0m\u001b[0;34m.\u001b[0m\u001b[0mjoin\u001b[0m\u001b[0;34m(\u001b[0m\u001b[0mpath\u001b[0m\u001b[0;34m,\u001b[0m \u001b[0mcls\u001b[0m\u001b[0;34m)\u001b[0m\u001b[0;34m\u001b[0m\u001b[0;34m\u001b[0m\u001b[0m\n\u001b[0;32m---> 11\u001b[0;31m     \u001b[0;32mfor\u001b[0m \u001b[0mj\u001b[0m \u001b[0;32min\u001b[0m \u001b[0mos\u001b[0m\u001b[0;34m.\u001b[0m\u001b[0mlistdir\u001b[0m\u001b[0;34m(\u001b[0m\u001b[0mpth\u001b[0m\u001b[0;34m)\u001b[0m\u001b[0;34m:\u001b[0m\u001b[0;34m\u001b[0m\u001b[0;34m\u001b[0m\u001b[0m\n\u001b[0m\u001b[1;32m     12\u001b[0m         \u001b[0mimg\u001b[0m \u001b[0;34m=\u001b[0m \u001b[0mcv2\u001b[0m\u001b[0;34m.\u001b[0m\u001b[0mimread\u001b[0m\u001b[0;34m(\u001b[0m\u001b[0mos\u001b[0m\u001b[0;34m.\u001b[0m\u001b[0mpath\u001b[0m\u001b[0;34m.\u001b[0m\u001b[0mjoin\u001b[0m\u001b[0;34m(\u001b[0m\u001b[0mpth\u001b[0m\u001b[0;34m,\u001b[0m \u001b[0mj\u001b[0m\u001b[0;34m)\u001b[0m\u001b[0;34m,\u001b[0m \u001b[0;36m0\u001b[0m\u001b[0;34m)\u001b[0m\u001b[0;34m\u001b[0m\u001b[0;34m\u001b[0m\u001b[0m\n\u001b[1;32m     13\u001b[0m         \u001b[0mimg\u001b[0m \u001b[0;34m=\u001b[0m \u001b[0mcv2\u001b[0m\u001b[0;34m.\u001b[0m\u001b[0mresize\u001b[0m\u001b[0;34m(\u001b[0m\u001b[0mimg\u001b[0m\u001b[0;34m,\u001b[0m \u001b[0;34m(\u001b[0m\u001b[0;36m200\u001b[0m\u001b[0;34m,\u001b[0m \u001b[0;36m200\u001b[0m\u001b[0;34m)\u001b[0m\u001b[0;34m)\u001b[0m\u001b[0;34m\u001b[0m\u001b[0;34m\u001b[0m\u001b[0m\n",
            "\u001b[0;31mFileNotFoundError\u001b[0m: [Errno 2] No such file or directory: 'drive/folders/103BUwrUm9k845ERsTIFFdntzVdeMqXkm?usp=sharing/no_tumor'"
          ]
        }
      ]
    },
    {
      "cell_type": "code",
      "source": [
        "X = np.array(X)\n",
        "Y = np.array(Y)\n",
        "pd.Series(Y).value_counts().plot(kind=\"bar\")"
      ],
      "metadata": {
        "id": "VWdjuIi4F3xd"
      },
      "execution_count": null,
      "outputs": []
    },
    {
      "cell_type": "code",
      "source": [
        "X_updated = X.reshape(len(X), -1)\n",
        "X.shape, X_updated.shape"
      ],
      "metadata": {
        "id": "7TCfgmVkF3xe"
      },
      "execution_count": null,
      "outputs": []
    },
    {
      "cell_type": "code",
      "source": [
        "plt.imshow(X[0], cmap='gray')"
      ],
      "metadata": {
        "id": "Eao9a43wF3xe"
      },
      "execution_count": null,
      "outputs": []
    },
    {
      "cell_type": "code",
      "source": [
        "xtrain, xtest, ytrain, ytest = train_test_split(X_updated, Y, random_state=10,test_size=.20)"
      ],
      "metadata": {
        "id": "9tfLK0_oF3xe"
      },
      "execution_count": null,
      "outputs": []
    },
    {
      "cell_type": "code",
      "source": [
        "X = np.array(X)\n",
        "Y = np.array(Y)\n",
        "pd.Series(Y).value_counts().plot(kind=\"bar\")"
      ],
      "metadata": {
        "id": "ELWh3l-2Czqw"
      },
      "execution_count": null,
      "outputs": []
    },
    {
      "cell_type": "code",
      "source": [
        "X_updated = X.reshape(len(X), -1)\n",
        "X.shape, X_updated.shape"
      ],
      "metadata": {
        "id": "fNnOpsGxC5uz"
      },
      "execution_count": null,
      "outputs": []
    },
    {
      "cell_type": "code",
      "source": [
        "plt.imshow(X[0], cmap='gray')"
      ],
      "metadata": {
        "id": "yXXU-8ZTC8MM"
      },
      "execution_count": null,
      "outputs": []
    },
    {
      "cell_type": "code",
      "source": [
        "xtrain, xtest, ytrain, ytest = train_test_split(X_updated, Y, random_state=10,test_size=.20)"
      ],
      "metadata": {
        "id": "5ZgVlP7nC-vK"
      },
      "execution_count": null,
      "outputs": []
    },
    {
      "cell_type": "code",
      "source": [
        "xtrain.shape, xtest.shape"
      ],
      "metadata": {
        "id": "C6xyjwJDDAdy"
      },
      "execution_count": null,
      "outputs": []
    },
    {
      "cell_type": "code",
      "source": [
        "print(xtrain.max(), xtrain.min())\n",
        "print(xtest.max(), xtest.min())\n",
        "xtrain = xtrain/255\n",
        "xtest = xtest/255\n",
        "print(xtrain.max(), xtrain.min())\n",
        "print(xtest.max(), xtest.min())"
      ],
      "metadata": {
        "id": "sy_Gh2X2DCrN"
      },
      "execution_count": null,
      "outputs": []
    },
    {
      "cell_type": "code",
      "source": [
        "from sklearn.svm import SVC\n",
        "sv = SVC(kernel='linear')\n",
        "sv.fit(xtrain, ytrain)"
      ],
      "metadata": {
        "id": "WAQeB-zJDEUr"
      },
      "execution_count": null,
      "outputs": []
    },
    {
      "cell_type": "code",
      "source": [
        "print(\"Training Score:\", sv.score(xtrain, ytrain))\n",
        "print(\"Testing Score:\", sv.score(xtest, ytest))"
      ],
      "metadata": {
        "id": "IXwPiRW7DF89"
      },
      "execution_count": null,
      "outputs": []
    },
    {
      "cell_type": "code",
      "source": [
        "pred = sv.predict(xtest)\n",
        "misclassified=np.where(ytest!=pred)\n",
        "misclassified"
      ],
      "metadata": {
        "id": "AHTkhESnDHs8"
      },
      "execution_count": null,
      "outputs": []
    },
    {
      "cell_type": "code",
      "source": [
        "dec = {0:'No Tumor', 1:'Pituitary Tumor',2:'Glioma Tumor',3:'Meningioma Tumor'}"
      ],
      "metadata": {
        "id": "bUp-o5NhDOkH"
      },
      "execution_count": null,
      "outputs": []
    },
    {
      "cell_type": "code",
      "source": [
        "plt.figure(figsize=(12,8))\n",
        "c=1\n",
        "path='/Users/himanshugulechha/Desktop/MSc AI&ML/Sem1/ML/archive/Testing/no_tumor'\n",
        "for i in os.listdir(path)[:9]:\n",
        "  img=cv2.imread(os.path.join(path,i),0)\n",
        "  if img is not None:\n",
        "    p=sv.predict(cv2.resize(img,(200,200)).reshape(1,-1)/255)\n",
        "    plt.subplot(3,3,c)\n",
        "    plt.title(dec.get(p[0],'UnKnown'))\n",
        "    plt.imshow(img,cmap='gray')\n",
        "    plt.axis('off')\n",
        "    c+=1\n",
        "  else:\n",
        "    print(f\"Fail to load image:{i}\")\n",
        "    plt.show()"
      ],
      "metadata": {
        "id": "9yOyTX1mDjIo"
      },
      "execution_count": null,
      "outputs": []
    },
    {
      "cell_type": "code",
      "source": [
        "plt.figure(figsize=(12,8))\n",
        "c=1\n",
        "path='/Users/himanshugulechha/Desktop/MSc AI&ML/Sem1/ML/archive/Testing/pituitary_tumor'\n",
        "for i in os.listdir(path)[:30]:\n",
        "  img=cv2.imread(os.path.join(path,i),0)\n",
        "  if img is not None:\n",
        "    p=sv.predict(cv2.resize(img,(200,200)).reshape(1,-1)/255)\n",
        "    plt.subplot(5,6,c)\n",
        "    plt.title(dec.get(p[0],'UnKnown'))\n",
        "    plt.imshow(img,cmap='gray')\n",
        "    plt.axis('off')\n",
        "    c+=1\n",
        "  else:\n",
        "    print(f'Failed to Load Image:{i}')\n",
        "    plt.show()"
      ],
      "metadata": {
        "id": "US1dzod7DwL-"
      },
      "execution_count": null,
      "outputs": []
    },
    {
      "cell_type": "code",
      "source": [
        "plt.figure(figsize=(12,8))\n",
        "c=1\n",
        "path='/Users/himanshugulechha/Desktop/MSc AI&ML/Sem1/ML/archive/Testing/glioma_tumor'\n",
        "for i in os.listdir(path)[:30]:\n",
        "  img=cv2.imread(os.path.join(path,i),0)\n",
        "  if img is not None:\n",
        "    p=sv.predict(cv2.resize(img,(200,200)).reshape(1,-1)/255)\n",
        "    plt.subplot(5,6,c)\n",
        "    plt.title(dec.get(p[0],'UnKnown'))\n",
        "    plt.imshow(img,cmap='gray')\n",
        "    plt.axis('off')\n",
        "    c+=1\n",
        "  else:\n",
        "    print(f'Failed to Load Image:{i}')\n",
        "    plt.show()"
      ],
      "metadata": {
        "id": "lv0LFB0xDz-i"
      },
      "execution_count": null,
      "outputs": []
    },
    {
      "cell_type": "code",
      "source": [
        "plt.figure(figsize=(12,8))\n",
        "c=1\n",
        "path='/Users/himanshugulechha/Desktop/MSc AI&ML/Sem1/ML/archive/Testing/meningioma_tumor'\n",
        "for i in os.listdir(path)[:30]:\n",
        "  img=cv2.imread(os.path.join(path,i),0)\n",
        "  if img is not None:\n",
        "    p=sv.predict(cv2.resize(img,(200,200)).reshape(1,-1)/255)\n",
        "    plt.subplot(5,6,c)\n",
        "    plt.title(dec.get(p[0],'UnKnown'))\n",
        "    plt.imshow(img,cmap='gray')\n",
        "    plt.axis('off')\n",
        "    c+=1\n",
        "  else:\n",
        "    print(f'Failed to Load Image:{i}')\n",
        "    plt.show()"
      ],
      "metadata": {
        "id": "MbgRcp6PD2MJ"
      },
      "execution_count": null,
      "outputs": []
    },
    {
      "cell_type": "code",
      "source": [
        "from sklearn.metrics import classification_report\n",
        "classification=classification_report(ytest,pred)\n",
        "print(classification)"
      ],
      "metadata": {
        "id": "In4cGWVHD393"
      },
      "execution_count": null,
      "outputs": []
    },
    {
      "cell_type": "code",
      "source": [
        "from sklearn.metrics import confusion_matrix\n",
        "matrix=confusion_matrix(ytest,pred)\n",
        "matrix"
      ],
      "metadata": {
        "id": "4DfmYClED5ol"
      },
      "execution_count": null,
      "outputs": []
    },
    {
      "cell_type": "code",
      "source": [
        "cm_df = pd.DataFrame(matrix,\n",
        "                     index = ['NT','PT','GT','MT'],\n",
        "                     columns = ['NT','PT','GT','MT'])\n",
        "plt.figure(figsize=(10,8))\n",
        "sns.heatmap(cm_df, annot=True,cmap='Blues')\n",
        "plt.title('Confusion Matrix')\n",
        "plt.ylabel('Actal Values')\n",
        "plt.xlabel('Predicted Values')\n",
        "plt.show()"
      ],
      "metadata": {
        "id": "8c-zX8I4D7NU"
      },
      "execution_count": null,
      "outputs": []
    }
  ]
}